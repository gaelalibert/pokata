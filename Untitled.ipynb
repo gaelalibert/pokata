{
 "cells": [
  {
   "cell_type": "code",
   "execution_count": 1,
   "metadata": {},
   "outputs": [],
   "source": [
    "from poker_table import Table\n",
    "from poker_cards import Cards\n",
    "from poker_hand_values import HandValue\n",
    "from utils import *"
   ]
  },
  {
   "cell_type": "code",
   "execution_count": 2,
   "metadata": {},
   "outputs": [
    {
     "name": "stdout",
     "output_type": "stream",
     "text": [
      "Taken spots :  set()\n",
      "Free spots :  {0, 1, 2, 3, 4, 5, 6, 7, 8, 9}\n"
     ]
    }
   ],
   "source": [
    "cg_table = Table(6)"
   ]
  },
  {
   "cell_type": "code",
   "execution_count": 3,
   "metadata": {},
   "outputs": [],
   "source": [
    "deck = deck_creation()"
   ]
  },
  {
   "cell_type": "code",
   "execution_count": 4,
   "metadata": {},
   "outputs": [
    {
     "name": "stdout",
     "output_type": "stream",
     "text": [
      "2 of Heart\n",
      "2 of Diamond\n",
      "2 of Clubs\n",
      "2 of Spade\n",
      "3 of Heart\n",
      "3 of Diamond\n",
      "3 of Clubs\n",
      "3 of Spade\n",
      "4 of Heart\n",
      "4 of Diamond\n",
      "4 of Clubs\n",
      "4 of Spade\n",
      "5 of Heart\n",
      "5 of Diamond\n",
      "5 of Clubs\n",
      "5 of Spade\n",
      "6 of Heart\n",
      "6 of Diamond\n",
      "6 of Clubs\n",
      "6 of Spade\n",
      "7 of Heart\n",
      "7 of Diamond\n",
      "7 of Clubs\n",
      "7 of Spade\n",
      "8 of Heart\n",
      "8 of Diamond\n",
      "8 of Clubs\n",
      "8 of Spade\n",
      "9 of Heart\n",
      "9 of Diamond\n",
      "9 of Clubs\n",
      "9 of Spade\n",
      "10 of Heart\n",
      "10 of Diamond\n",
      "10 of Clubs\n",
      "10 of Spade\n",
      "Jack of Heart\n",
      "Jack of Diamond\n",
      "Jack of Clubs\n",
      "Jack of Spade\n",
      "Queen of Heart\n",
      "Queen of Diamond\n",
      "Queen of Clubs\n",
      "Queen of Spade\n",
      "King of Heart\n",
      "King of Diamond\n",
      "King of Clubs\n",
      "King of Spade\n",
      "Ace of Heart\n",
      "Ace of Diamond\n",
      "Ace of Clubs\n",
      "Ace of Spade\n"
     ]
    }
   ],
   "source": [
    "show_deck(deck)"
   ]
  },
  {
   "cell_type": "code",
   "execution_count": 5,
   "metadata": {},
   "outputs": [],
   "source": [
    "deck, cards_dealed = dealing(cg_table, deck)"
   ]
  },
  {
   "cell_type": "code",
   "execution_count": 6,
   "metadata": {},
   "outputs": [
    {
     "name": "stdout",
     "output_type": "stream",
     "text": [
      "2 of Heart\n",
      "2 of Diamond\n",
      "2 of Clubs\n",
      "2 of Spade\n",
      "3 of Heart\n",
      "3 of Diamond\n",
      "3 of Clubs\n",
      "3 of Spade\n",
      "4 of Heart\n",
      "4 of Diamond\n",
      "4 of Clubs\n",
      "4 of Spade\n",
      "5 of Heart\n",
      "5 of Diamond\n",
      "5 of Clubs\n",
      "5 of Spade\n",
      "6 of Heart\n",
      "6 of Diamond\n",
      "6 of Clubs\n",
      "6 of Spade\n",
      "7 of Heart\n",
      "7 of Diamond\n",
      "7 of Clubs\n",
      "7 of Spade\n",
      "8 of Heart\n",
      "8 of Diamond\n",
      "8 of Clubs\n",
      "8 of Spade\n",
      "9 of Heart\n",
      "9 of Diamond\n",
      "9 of Clubs\n",
      "9 of Spade\n",
      "10 of Heart\n",
      "10 of Diamond\n",
      "10 of Clubs\n",
      "10 of Spade\n",
      "Jack of Heart\n",
      "Jack of Diamond\n",
      "Jack of Clubs\n",
      "Jack of Spade\n",
      "Queen of Heart\n",
      "Queen of Diamond\n",
      "Queen of Clubs\n",
      "Queen of Spade\n",
      "King of Heart\n",
      "King of Diamond\n",
      "King of Clubs\n",
      "King of Spade\n",
      "Ace of Heart\n",
      "Ace of Diamond\n",
      "Ace of Clubs\n",
      "Ace of Spade\n"
     ]
    }
   ],
   "source": [
    "show_deck(deck)"
   ]
  },
  {
   "cell_type": "code",
   "execution_count": 7,
   "metadata": {},
   "outputs": [],
   "source": [
    "for i in cards_dealed:\n",
    "    print([i[0], i[1].show()])"
   ]
  },
  {
   "cell_type": "code",
   "execution_count": 13,
   "metadata": {
    "collapsed": true
   },
   "outputs": [],
   "source": [
    "deck, board_cards = dealing_board(deck)"
   ]
  },
  {
   "cell_type": "code",
   "execution_count": 15,
   "metadata": {},
   "outputs": [
    {
     "name": "stdout",
     "output_type": "stream",
     "text": [
      "4 of Diamond\n",
      "2 of Clubs\n",
      "7 of Clubs\n",
      "3 of Diamond\n",
      "7 of Spade\n"
     ]
    }
   ],
   "source": [
    "show_deck(board_cards)"
   ]
  },
  {
   "cell_type": "code",
   "execution_count": 14,
   "metadata": {},
   "outputs": [
    {
     "name": "stdout",
     "output_type": "stream",
     "text": [
      "9 of Heart\n",
      "Ace of Spade\n",
      "2 of Heart\n",
      "6 of Diamond\n",
      "9 of Spade\n",
      "10 of Clubs\n",
      "7 of Diamond\n",
      "King of Clubs\n",
      "8 of Heart\n",
      "4 of Spade\n",
      "6 of Clubs\n",
      "Ace of Heart\n",
      "Jack of Heart\n",
      "2 of Diamond\n",
      "3 of Spade\n",
      "Queen of Clubs\n",
      "6 of Spade\n",
      "5 of Spade\n",
      "Jack of Spade\n",
      "10 of Spade\n",
      "King of Diamond\n",
      "7 of Heart\n",
      "9 of Clubs\n",
      "10 of Heart\n",
      "Ace of Diamond\n",
      "5 of Clubs\n",
      "King of Heart\n",
      "8 of Clubs\n",
      "9 of Diamond\n",
      "Jack of Clubs\n",
      "Queen of Spade\n",
      "4 of Clubs\n",
      "Ace of Clubs\n",
      "5 of Diamond\n",
      "2 of Spade\n"
     ]
    }
   ],
   "source": [
    "show_deck(deck)"
   ]
  },
  {
   "cell_type": "code",
   "execution_count": 17,
   "metadata": {},
   "outputs": [
    {
     "name": "stdout",
     "output_type": "stream",
     "text": [
      "Game of player 0 : \n",
      "You have a double pair of 7 and 4\n",
      "(2, [7, 4, 3])\n",
      "Game of player 3 : \n",
      "You have a pair of 7\n",
      "(1, [7, 13, 6, 4])\n",
      "Game of player 4 : \n",
      "You have a pair of 7\n",
      "(1, [7, 12, 5, 4])\n",
      "Game of player 5 : \n",
      "You have a pair of 7\n",
      "(1, [7, 12, 8, 4])\n",
      "Game of player 6 : \n",
      "You have a double pair of 7 and 3\n",
      "(2, [7, 3, 11])\n",
      "Game of player 9 : \n",
      "You have a pair of 7\n",
      "(1, [7, 10, 8, 4])\n"
     ]
    }
   ],
   "source": [
    "for player in cg_table.spots_taken:\n",
    "    print(\"Game of player %d : \" %player)\n",
    "    a = player_game(player, board_cards, cards_dealed)\n",
    "    value = HandValue(a)\n",
    "    print(value.best_hand())"
   ]
  },
  {
   "cell_type": "code",
   "execution_count": 21,
   "metadata": {},
   "outputs": [
    {
     "ename": "NameError",
     "evalue": "name 'hand_winner' is not defined",
     "output_type": "error",
     "traceback": [
      "\u001b[0;31m---------------------------------------------------------------------------\u001b[0m",
      "\u001b[0;31mNameError\u001b[0m                                 Traceback (most recent call last)",
      "\u001b[0;32m<ipython-input-21-64bbc1134227>\u001b[0m in \u001b[0;36m<module>\u001b[0;34m()\u001b[0m\n\u001b[0;32m----> 1\u001b[0;31m \u001b[0mhand_winner\u001b[0m\u001b[0;34m(\u001b[0m\u001b[0mcg_table\u001b[0m\u001b[0;34m)\u001b[0m\u001b[0;34m\u001b[0m\u001b[0m\n\u001b[0m",
      "\u001b[0;31mNameError\u001b[0m: name 'hand_winner' is not defined"
     ]
    }
   ],
   "source": [
    "hand_winner(cg_table)"
   ]
  },
  {
   "cell_type": "markdown",
   "metadata": {
    "collapsed": true
   },
   "source": [
    "# TESTS"
   ]
  },
  {
   "cell_type": "code",
   "execution_count": 5,
   "metadata": {
    "collapsed": true
   },
   "outputs": [],
   "source": [
    "a = [12, 3]\n",
    "b = [334, 7]"
   ]
  },
  {
   "cell_type": "code",
   "execution_count": 8,
   "metadata": {},
   "outputs": [
    {
     "name": "stdout",
     "output_type": "stream",
     "text": [
      "[12, 3, 334, 7]\n"
     ]
    }
   ],
   "source": [
    "print(a+b)"
   ]
  },
  {
   "cell_type": "code",
   "execution_count": null,
   "metadata": {
    "collapsed": true
   },
   "outputs": [],
   "source": []
  }
 ],
 "metadata": {
  "anaconda-cloud": {},
  "kernelspec": {
   "display_name": "Python 3",
   "language": "python",
   "name": "python3"
  },
  "language_info": {
   "codemirror_mode": {
    "name": "ipython",
    "version": 3
   },
   "file_extension": ".py",
   "mimetype": "text/x-python",
   "name": "python",
   "nbconvert_exporter": "python",
   "pygments_lexer": "ipython3",
   "version": "3.6.2"
  }
 },
 "nbformat": 4,
 "nbformat_minor": 1
}
