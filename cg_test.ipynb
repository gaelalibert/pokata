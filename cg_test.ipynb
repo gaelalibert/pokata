{
 "cells": [
  {
   "cell_type": "code",
   "execution_count": 14,
   "metadata": {
    "collapsed": true
   },
   "outputs": [],
   "source": [
    "from game.poker_table import Table\n",
    "from game.poker_player import Players\n",
    "from game.poker_cards import Cards\n",
    "from game.poker_hand_values import HandValue\n",
    "from game.utils import *\n",
    "from game.poker_round import Round"
   ]
  },
  {
   "cell_type": "code",
   "execution_count": 15,
   "metadata": {},
   "outputs": [
    {
     "name": "stdout",
     "output_type": "stream",
     "text": [
      "Taken spots :  set()\n",
      "Free spots :  {0, 1, 2, 3, 4, 5, 6, 7, 8, 9}\n"
     ]
    }
   ],
   "source": [
    "# We create the table\n",
    "cg_table = Table(limit = 2)\n",
    "STEP = \"pre-flop\""
   ]
  },
  {
   "cell_type": "code",
   "execution_count": 16,
   "metadata": {},
   "outputs": [
    {
     "name": "stdout",
     "output_type": "stream",
     "text": [
      "Taken spots :  set()\n",
      "Free spots :  {0, 1, 2, 3, 4, 5, 6, 7, 8, 9}\n",
      "Players :  []\n",
      "Spots names :  {}\n",
      "Dealer is the seat :  -1\n"
     ]
    }
   ],
   "source": [
    "cg_table.show()"
   ]
  },
  {
   "cell_type": "code",
   "execution_count": 17,
   "metadata": {
    "collapsed": true
   },
   "outputs": [],
   "source": [
    "#We create our players and add them to the table\n",
    "robert = Players('Robert')\n",
    "youri = Players('Youri')\n",
    "zizou = Players('Zinedine')\n",
    "dede = Players('Didier')\n",
    "lilian = Players('Lilian')\n",
    "titi = Players('Thierry')"
   ]
  },
  {
   "cell_type": "code",
   "execution_count": 18,
   "metadata": {},
   "outputs": [
    {
     "name": "stdout",
     "output_type": "stream",
     "text": [
      "You can sit here. There are now 1 players on this table.\n",
      "Taken spots :  {5}\n",
      "Free spots :  {0, 1, 2, 3, 4, 6, 7, 8, 9}\n",
      "You can sit here. There are now 2 players on this table.\n",
      "Taken spots :  {1, 5}\n",
      "Free spots :  {0, 2, 3, 4, 6, 7, 8, 9}\n",
      "You can sit here. There are now 3 players on this table.\n",
      "Taken spots :  {8, 1, 5}\n",
      "Free spots :  {0, 2, 3, 4, 6, 7, 9}\n",
      "You can sit here. There are now 4 players on this table.\n",
      "Taken spots :  {8, 1, 3, 5}\n",
      "Free spots :  {0, 2, 4, 6, 7, 9}\n",
      "You can sit here. There are now 5 players on this table.\n",
      "Taken spots :  {1, 2, 3, 5, 8}\n",
      "Free spots :  {0, 4, 6, 7, 9}\n"
     ]
    }
   ],
   "source": [
    "cg_table.sit(robert, 50)\n",
    "cg_table.sit(youri, 99)\n",
    "cg_table.sit(zizou, 100)\n",
    "cg_table.sit(dede, 99)\n",
    "cg_table.sit(lilian, 100)"
   ]
  },
  {
   "cell_type": "code",
   "execution_count": 19,
   "metadata": {},
   "outputs": [
    {
     "name": "stdout",
     "output_type": "stream",
     "text": [
      "The seat 8 is the Dealer\n",
      "The player Zinedine is the Dealer\n"
     ]
    }
   ],
   "source": [
    "# The dealer is chosen randomly (for this iteration)\n",
    "cg_table.dealer = rd.choice(list(cg_table.spots_taken))\n",
    "print(\"The seat %i is the Dealer\" %cg_table.dealer)\n",
    "dealer = cg_table.spot_name[cg_table.dealer]\n",
    "print(\"The player %s is the Dealer\" %dealer)"
   ]
  },
  {
   "cell_type": "code",
   "execution_count": 20,
   "metadata": {},
   "outputs": [
    {
     "name": "stdout",
     "output_type": "stream",
     "text": [
      "Taken spots :  {1, 2, 3, 5, 8}\n",
      "Free spots :  {0, 4, 6, 7, 9}\n",
      "Players :  ['Robert', 'Youri', 'Zinedine', 'Didier', 'Lilian']\n",
      "Spots names :  {5: 'Robert', 1: 'Youri', 8: 'Zinedine', 3: 'Didier', 2: 'Lilian'}\n",
      "Dealer is the seat :  8\n"
     ]
    }
   ],
   "source": [
    "cg_table.show()"
   ]
  },
  {
   "cell_type": "code",
   "execution_count": 21,
   "metadata": {},
   "outputs": [],
   "source": [
    "play_round = Round(cg_table)"
   ]
  },
  {
   "cell_type": "code",
   "execution_count": 22,
   "metadata": {},
   "outputs": [],
   "source": [
    "play_round.get_blinds()"
   ]
  },
  {
   "cell_type": "code",
   "execution_count": 23,
   "metadata": {},
   "outputs": [
    {
     "name": "stdout",
     "output_type": "stream",
     "text": [
      "_____________________________________________________________________\n",
      "Step : pre-flop\n",
      "Players Left['Zinedine', 'Youri', 'Lilian', 'Didier', 'Robert']\n",
      "Players chips : {'Zinedine': 100, 'Youri': 98.0, 'Lilian': 98, 'Didier': 99, 'Robert': 50}\n",
      "Board cards None\n",
      "Pot : 3.0\n",
      "Players bets : {'Zinedine': 0, 'Youri': 1.0, 'Lilian': 2, 'Didier': 0, 'Robert': 0}\n",
      "_____________________________________________________________________\n"
     ]
    }
   ],
   "source": [
    "play_round.show_info()"
   ]
  },
  {
   "cell_type": "code",
   "execution_count": 24,
   "metadata": {
    "collapsed": true
   },
   "outputs": [],
   "source": [
    "play_round.dealing_cards()"
   ]
  },
  {
   "cell_type": "code",
   "execution_count": 25,
   "metadata": {},
   "outputs": [
    {
     "data": {
      "text/plain": [
       "[{'card1': 'Jack of Heart', 'card2': '5 of Heart', 'player': 'Youri'},\n",
       " {'card1': '3 of Heart', 'card2': '6 of Heart', 'player': 'Lilian'},\n",
       " {'card1': '6 of Clubs', 'card2': 'Queen of Heart', 'player': 'Didier'},\n",
       " {'card1': '2 of Spade', 'card2': '2 of Diamond', 'player': 'Robert'},\n",
       " {'card1': '4 of Diamond', 'card2': '2 of Clubs', 'player': 'Zinedine'}]"
      ]
     },
     "execution_count": 25,
     "metadata": {},
     "output_type": "execute_result"
    }
   ],
   "source": [
    "show_cards_dealed(play_round.table, play_round.cards_dealed)"
   ]
  },
  {
   "cell_type": "code",
   "execution_count": 26,
   "metadata": {},
   "outputs": [
    {
     "name": "stdout",
     "output_type": "stream",
     "text": [
      "icicicicicici\n",
      "['Didier', 'Robert', 'Zinedine', 'Youri', 'Lilian']\n",
      "_____________________________________________________________________\n",
      "Step : pre-flop\n",
      "Players Left['Zinedine', 'Youri', 'Lilian', 'Didier', 'Robert']\n",
      "Players chips : {'Zinedine': 100, 'Youri': 98.0, 'Lilian': 98, 'Didier': 99, 'Robert': 50}\n",
      "Board cards None\n",
      "Pot : 3.0\n",
      "Players bets : {'Zinedine': 0, 'Youri': 1.0, 'Lilian': 2, 'Didier': 0, 'Robert': 0}\n",
      "_____________________________________________________________________\n",
      "++++++++ Didier +++++++++++\n",
      "What's your action ? FOLD or CHECK/CALL OR RAISE ?FOLD\n",
      "YYYYYYYYYYYYY\n",
      "cnt : 1\n",
      "{'Zinedine': 0, 'Youri': 1.0, 'Lilian': 2, 'Robert': 0}\n",
      "_____________________________________________________________________\n",
      "Step : pre-flop\n",
      "Players Left['Zinedine', 'Youri', 'Lilian', 'Robert']\n",
      "Players chips : {'Zinedine': 100, 'Youri': 98.0, 'Lilian': 98, 'Robert': 50}\n",
      "Board cards None\n",
      "Pot : 3.0\n",
      "Players bets : {'Zinedine': 0, 'Youri': 1.0, 'Lilian': 2, 'Didier': 0, 'Robert': 0}\n",
      "_____________________________________________________________________\n",
      "++++++++ Robert +++++++++++\n",
      "What's your action ? FOLD or CHECK/CALL OR RAISE ?FOLD\n",
      "YYYYYYYYYYYYY\n",
      "cnt : 1\n",
      "{'Zinedine': 0, 'Youri': 1.0, 'Lilian': 2}\n",
      "_____________________________________________________________________\n",
      "Step : pre-flop\n",
      "Players Left['Zinedine', 'Youri', 'Lilian']\n",
      "Players chips : {'Zinedine': 100, 'Youri': 98.0, 'Lilian': 98}\n",
      "Board cards None\n",
      "Pot : 3.0\n",
      "Players bets : {'Zinedine': 0, 'Youri': 1.0, 'Lilian': 2, 'Didier': 0, 'Robert': 0}\n",
      "_____________________________________________________________________\n",
      "++++++++ Zinedine +++++++++++\n",
      "What's your action ? FOLD or CHECK/CALL OR RAISE ?RAISE\n",
      "What's your raise ammount? (minimum double)3\n",
      "You need to bet at least 2 times the initial stake.\n",
      "++++++++ Zinedine +++++++++++\n",
      "What's your action ? FOLD or CHECK/CALL OR RAISE ?RAISE\n",
      "What's your raise ammount? (minimum double)120\n",
      "You don't have enough chips\n",
      "++++++++ Zinedine +++++++++++\n",
      "What's your action ? FOLD or CHECK/CALL OR RAISE ?RAISE\n",
      "What's your raise ammount? (minimum double)20\n",
      "YYYYYYYYYYYYY\n",
      "cnt : 1\n",
      "{'Zinedine': 20, 'Youri': 1.0, 'Lilian': 2}\n",
      "_____________________________________________________________________\n",
      "Step : pre-flop\n",
      "Players Left['Zinedine', 'Youri', 'Lilian']\n",
      "Players chips : {'Zinedine': 80, 'Youri': 98.0, 'Lilian': 98}\n",
      "Board cards None\n",
      "Pot : 23.0\n",
      "Players bets : {'Zinedine': 20, 'Youri': 1.0, 'Lilian': 2, 'Didier': 0, 'Robert': 0}\n",
      "_____________________________________________________________________\n",
      "++++++++ Youri +++++++++++\n",
      "What's your action ? FOLD or CHECK/CALL OR RAISE ?FOLD\n",
      "YYYYYYYYYYYYY\n",
      "cnt : 1\n",
      "{'Zinedine': 20, 'Lilian': 2}\n",
      "_____________________________________________________________________\n",
      "Step : pre-flop\n",
      "Players Left['Zinedine', 'Lilian']\n",
      "Players chips : {'Zinedine': 80, 'Lilian': 98}\n",
      "Board cards None\n",
      "Pot : 23.0\n",
      "Players bets : {'Zinedine': 20, 'Youri': 1.0, 'Lilian': 2, 'Didier': 0, 'Robert': 0}\n",
      "_____________________________________________________________________\n",
      "++++++++ Lilian +++++++++++\n",
      "What's your action ? FOLD or CHECK/CALL OR RAISE ?FOLD\n",
      "YYYYYYYYYYYYY\n",
      "cnt : 1\n",
      "{'Zinedine': 20}\n",
      "_____________________________________________________________________\n",
      "Step : pre-flop\n",
      "Players Left['Zinedine']\n",
      "Players chips : {'Zinedine': 80}\n",
      "Board cards None\n",
      "Pot : 23.0\n",
      "Players bets : {'Zinedine': 20, 'Youri': 1.0, 'Lilian': 2, 'Didier': 0, 'Robert': 0}\n",
      "_____________________________________________________________________\n"
     ]
    }
   ],
   "source": [
    "play_round.preflop_bets()"
   ]
  },
  {
   "cell_type": "code",
   "execution_count": 14,
   "metadata": {},
   "outputs": [
    {
     "name": "stdout",
     "output_type": "stream",
     "text": [
      "_____________________________________________________________________\n",
      "Step : pre-flop\n",
      "Players Left['Zinedine', 'Didier']\n",
      "Players chips : {'Zinedine': 88, 'Didier': 87}\n",
      "Board cards None\n",
      "Pot : 30.0\n",
      "Players bets : {'Lilian': 0, 'Youri': 1.0, 'Zinedine': 12, 'Didier': 12, 'Robert': 5}\n",
      "_____________________________________________________________________\n"
     ]
    }
   ],
   "source": [
    "play_round.show_info()"
   ]
  },
  {
   "cell_type": "code",
   "execution_count": 32,
   "metadata": {},
   "outputs": [
    {
     "name": "stdout",
     "output_type": "stream",
     "text": [
      "The flop cards are the following : \n",
      "Ace of Heart\n",
      "Ace of Diamond\n",
      "4 of Spade\n"
     ]
    }
   ],
   "source": [
    "play_round.play_flop()"
   ]
  },
  {
   "cell_type": "code",
   "execution_count": 33,
   "metadata": {},
   "outputs": [
    {
     "name": "stdout",
     "output_type": "stream",
     "text": [
      "The turn card is the following : \n",
      "Queen of Spade\n"
     ]
    }
   ],
   "source": [
    "play_round.play_turn()"
   ]
  },
  {
   "cell_type": "code",
   "execution_count": 34,
   "metadata": {},
   "outputs": [
    {
     "name": "stdout",
     "output_type": "stream",
     "text": [
      "The river card is the following : \n",
      "10 of Clubs\n"
     ]
    }
   ],
   "source": [
    "play_round.play_river()"
   ]
  },
  {
   "cell_type": "code",
   "execution_count": 35,
   "metadata": {},
   "outputs": [
    {
     "name": "stdout",
     "output_type": "stream",
     "text": [
      "Youri : (1, [14, 12, 11, 10])\n",
      "You have a pair of 14\n",
      "Didier : (1, [14, 13, 12, 10])\n",
      "You have a pair of 14\n",
      "Zinedine : (1, [14, 13, 12, 10])\n",
      "You have a pair of 14\n",
      "Robert : (2, [14, 4, 12])\n",
      "You have a double pair of 14 and 4\n",
      "Lilian : (1, [14, 12, 10, 8])\n",
      "You have a pair of 14\n",
      "The player(s) ['Robert'] win the hand\n",
      "You have a double pair of 14 and 4\n"
     ]
    }
   ],
   "source": [
    "play_round.get_round_winner()"
   ]
  },
  {
   "cell_type": "code",
   "execution_count": 10,
   "metadata": {
    "collapsed": true
   },
   "outputs": [],
   "source": [
    "deck = deck_creation()"
   ]
  },
  {
   "cell_type": "code",
   "execution_count": 29,
   "metadata": {},
   "outputs": [
    {
     "name": "stdout",
     "output_type": "stream",
     "text": [
      "{'player': 'Zinedine', 'card1': 'Ace of Clubs', 'card2': '6 of Heart'}\n",
      "{'player': 'Lilian', 'card1': 'Jack of Spade', 'card2': '10 of Spade'}\n",
      "{'player': 'Youri', 'card1': '10 of Clubs', 'card2': '6 of Diamond'}\n",
      "{'player': 'Robert', 'card1': '5 of Spade', 'card2': 'Queen of Clubs'}\n",
      "{'player': 'Didier', 'card1': '3 of Diamond', 'card2': 'Queen of Diamond'}\n"
     ]
    }
   ],
   "source": [
    "# We deal 2 cards per players RANDOMLY\n",
    "deck, cards_dealed = dealing(cg_table, deck)\n",
    "\n",
    "for i in show_cards_dealed(cg_table, cards_dealed):\n",
    "    print(i)"
   ]
  },
  {
   "cell_type": "code",
   "execution_count": 48,
   "metadata": {},
   "outputs": [
    {
     "data": {
      "text/plain": [
       "[<game.poker_player.Players at 0x10cf84dd8>,\n",
       " <game.poker_player.Players at 0x10cf84e48>,\n",
       " <game.poker_player.Players at 0x10cf84ef0>,\n",
       " <game.poker_player.Players at 0x10cf84cf8>,\n",
       " <game.poker_player.Players at 0x10cf84e10>]"
      ]
     },
     "execution_count": 48,
     "metadata": {},
     "output_type": "execute_result"
    }
   ],
   "source": [
    "cg_table.players"
   ]
  },
  {
   "cell_type": "code",
   "execution_count": 30,
   "metadata": {},
   "outputs": [
    {
     "name": "stdout",
     "output_type": "stream",
     "text": [
      "pseudo : Robert\n",
      "seat number 5\n",
      "Stack : 50\n",
      "player cards : 5 of Spade & Queen of Clubs\n",
      "pseudo : Youri\n",
      "seat number 4\n",
      "Stack : 99\n",
      "player cards : 10 of Clubs & 6 of Diamond\n",
      "pseudo : Zinedine\n",
      "seat number 2\n",
      "Stack : 100\n",
      "player cards : Ace of Clubs & 6 of Heart\n",
      "pseudo : Didier\n",
      "seat number 9\n",
      "Stack : 99\n",
      "player cards : 3 of Diamond & Queen of Diamond\n",
      "pseudo : Lilian\n",
      "seat number 3\n",
      "Stack : 100\n",
      "player cards : Jack of Spade & 10 of Spade\n"
     ]
    }
   ],
   "source": [
    "for i in cg_table.players:\n",
    "    i.show_info()"
   ]
  },
  {
   "cell_type": "code",
   "execution_count": 33,
   "metadata": {},
   "outputs": [
    {
     "name": "stdout",
     "output_type": "stream",
     "text": [
      "The flop cards are the following : \n",
      "9 of Clubs\n",
      "8 of Diamond\n",
      "5 of Diamond\n"
     ]
    }
   ],
   "source": [
    "deck, flop_cards = dealing_flop(deck)\n",
    "STEP = \"flop\"\n",
    "print(\"The flop cards are the following : \")\n",
    "show_deck(flop_cards)\n",
    "board_cards = flop_cards"
   ]
  },
  {
   "cell_type": "code",
   "execution_count": 34,
   "metadata": {},
   "outputs": [
    {
     "name": "stdout",
     "output_type": "stream",
     "text": [
      "The turn card is the following : \n",
      "9 of Spade\n"
     ]
    }
   ],
   "source": [
    "# The turn\n",
    "deck, turn_card = dealing_turn(deck)\n",
    "STEP = \"turn\"\n",
    "print(\"The turn card is the following : \")\n",
    "show_deck(turn_card)\n",
    "board_cards += turn_card"
   ]
  },
  {
   "cell_type": "code",
   "execution_count": 35,
   "metadata": {},
   "outputs": [
    {
     "name": "stdout",
     "output_type": "stream",
     "text": [
      "The river card is the following : \n",
      "Ace of Diamond\n"
     ]
    }
   ],
   "source": [
    "# The river\n",
    "deck, river_card = dealing_turn(deck)\n",
    "STEP = \"river\"\n",
    "print(\"The river card is the following : \")\n",
    "show_deck(river_card)\n",
    "board_cards += river_card"
   ]
  },
  {
   "cell_type": "code",
   "execution_count": 36,
   "metadata": {},
   "outputs": [
    {
     "name": "stdout",
     "output_type": "stream",
     "text": [
      "Zinedine : (2, [14, 9, 8])\n",
      "You have a double pair of 14 and 9\n",
      "Lilian : (1, [9, 14, 11, 10])\n",
      "You have a pair of 9\n",
      "Youri : (1, [9, 14, 10, 8])\n",
      "You have a pair of 9\n",
      "Robert : (2, [9, 5, 14])\n",
      "You have a double pair of 9 and 5\n",
      "Didier : (5, [14, 12, 8, 5, 3])\n",
      "You have a color with high 14\n",
      "The player(s) ['Didier'] win the hand\n",
      "You have a color with high 14\n"
     ]
    },
    {
     "data": {
      "text/plain": [
       "[9]"
      ]
     },
     "execution_count": 36,
     "metadata": {},
     "output_type": "execute_result"
    }
   ],
   "source": [
    "# We select the best game among all players\n",
    "hand_winner(cg_table, board_cards, cards_dealed)"
   ]
  },
  {
   "cell_type": "code",
   "execution_count": 45,
   "metadata": {
    "collapsed": true
   },
   "outputs": [],
   "source": [
    "a = ['aaa', 'bbb']"
   ]
  },
  {
   "cell_type": "code",
   "execution_count": 42,
   "metadata": {
    "collapsed": true
   },
   "outputs": [],
   "source": [
    "def get_pos(a, pos_supp):\n",
    "    len_player = len(a)\n",
    "    if len(a) > pos_supp:\n",
    "        return a[pos_supp]\n",
    "    else:\n",
    "        while pos_supp >= len(a):\n",
    "            pos_supp += -len(a)\n",
    "        return a[pos_supp]"
   ]
  },
  {
   "cell_type": "code",
   "execution_count": 47,
   "metadata": {},
   "outputs": [
    {
     "data": {
      "text/plain": [
       "'bbb'"
      ]
     },
     "execution_count": 47,
     "metadata": {},
     "output_type": "execute_result"
    }
   ],
   "source": [
    "get_pos(a, 1)"
   ]
  },
  {
   "cell_type": "code",
   "execution_count": 11,
   "metadata": {},
   "outputs": [
    {
     "name": "stdout",
     "output_type": "stream",
     "text": [
      "test3\n"
     ]
    }
   ],
   "source": [
    "a = input('test')"
   ]
  },
  {
   "cell_type": "code",
   "execution_count": 13,
   "metadata": {},
   "outputs": [
    {
     "name": "stdout",
     "output_type": "stream",
     "text": [
      "Enter an integer2\n",
      "Enter an integer4\n",
      "Enter an integer1\n",
      "Enter an integer8\n",
      "Enter an integer9\n"
     ]
    }
   ],
   "source": [
    "oo = []\n",
    "for i in range(5):\n",
    "    oo.append(input('Enter an integer'))"
   ]
  },
  {
   "cell_type": "code",
   "execution_count": 14,
   "metadata": {},
   "outputs": [
    {
     "data": {
      "text/plain": [
       "['2', '4', '1', '8', '9']"
      ]
     },
     "execution_count": 14,
     "metadata": {},
     "output_type": "execute_result"
    }
   ],
   "source": [
    "oo"
   ]
  },
  {
   "cell_type": "code",
   "execution_count": 17,
   "metadata": {},
   "outputs": [
    {
     "data": {
      "text/plain": [
       "['4', '1', '8', '9']"
      ]
     },
     "execution_count": 17,
     "metadata": {},
     "output_type": "execute_result"
    }
   ],
   "source": [
    "oo[1:]"
   ]
  },
  {
   "cell_type": "code",
   "execution_count": 16,
   "metadata": {},
   "outputs": [
    {
     "data": {
      "text/plain": [
       "['2', '4', '1']"
      ]
     },
     "execution_count": 16,
     "metadata": {},
     "output_type": "execute_result"
    }
   ],
   "source": [
    "oo[:3]"
   ]
  },
  {
   "cell_type": "code",
   "execution_count": 33,
   "metadata": {
    "collapsed": true
   },
   "outputs": [],
   "source": [
    "a = {'aa': 8, 'bb' : 8, 'cc' : 8}"
   ]
  },
  {
   "cell_type": "code",
   "execution_count": 34,
   "metadata": {},
   "outputs": [
    {
     "data": {
      "text/plain": [
       "{8}"
      ]
     },
     "execution_count": 34,
     "metadata": {},
     "output_type": "execute_result"
    }
   ],
   "source": [
    "set(a.values())"
   ]
  },
  {
   "cell_type": "code",
   "execution_count": 26,
   "metadata": {},
   "outputs": [
    {
     "ename": "AttributeError",
     "evalue": "'str' object has no attribute 'key'",
     "output_type": "error",
     "traceback": [
      "\u001b[0;31m---------------------------------------------------------------------------\u001b[0m",
      "\u001b[0;31mAttributeError\u001b[0m                            Traceback (most recent call last)",
      "\u001b[0;32m<ipython-input-26-84db7381e3de>\u001b[0m in \u001b[0;36m<module>\u001b[0;34m()\u001b[0m\n\u001b[1;32m      1\u001b[0m \u001b[0;32mfor\u001b[0m \u001b[0mi\u001b[0m \u001b[0;32min\u001b[0m \u001b[0ma\u001b[0m\u001b[0;34m:\u001b[0m\u001b[0;34m\u001b[0m\u001b[0m\n\u001b[0;32m----> 2\u001b[0;31m     \u001b[0mprint\u001b[0m\u001b[0;34m(\u001b[0m\u001b[0mi\u001b[0m\u001b[0;34m.\u001b[0m\u001b[0mkey\u001b[0m\u001b[0;34m)\u001b[0m\u001b[0;34m\u001b[0m\u001b[0m\n\u001b[0m",
      "\u001b[0;31mAttributeError\u001b[0m: 'str' object has no attribute 'key'"
     ]
    }
   ],
   "source": [
    "for i in a:\n",
    "    print(i.key)"
   ]
  },
  {
   "cell_type": "code",
   "execution_count": 19,
   "metadata": {},
   "outputs": [
    {
     "data": {
      "text/plain": [
       "8"
      ]
     },
     "execution_count": 19,
     "metadata": {},
     "output_type": "execute_result"
    }
   ],
   "source": [
    "max(a.values())"
   ]
  },
  {
   "cell_type": "code",
   "execution_count": 22,
   "metadata": {},
   "outputs": [
    {
     "ename": "NameError",
     "evalue": "name 'raw_input' is not defined",
     "output_type": "error",
     "traceback": [
      "\u001b[0;31m---------------------------------------------------------------------------\u001b[0m",
      "\u001b[0;31mNameError\u001b[0m                                 Traceback (most recent call last)",
      "\u001b[0;32m<ipython-input-22-4c9c95a9799e>\u001b[0m in \u001b[0;36m<module>\u001b[0;34m()\u001b[0m\n\u001b[0;32m----> 1\u001b[0;31m \u001b[0ma\u001b[0m \u001b[0;34m=\u001b[0m \u001b[0mraw_input\u001b[0m\u001b[0;34m(\u001b[0m\u001b[0;34m'fffff'\u001b[0m\u001b[0;34m)\u001b[0m\u001b[0;34m\u001b[0m\u001b[0m\n\u001b[0m",
      "\u001b[0;31mNameError\u001b[0m: name 'raw_input' is not defined"
     ]
    }
   ],
   "source": [
    "a = raw_input('fffff')"
   ]
  },
  {
   "cell_type": "code",
   "execution_count": 21,
   "metadata": {},
   "outputs": [
    {
     "data": {
      "text/plain": [
       "str"
      ]
     },
     "execution_count": 21,
     "metadata": {},
     "output_type": "execute_result"
    }
   ],
   "source": [
    "type(a)"
   ]
  },
  {
   "cell_type": "code",
   "execution_count": 23,
   "metadata": {},
   "outputs": [
    {
     "name": "stdout",
     "output_type": "stream",
     "text": [
      "vrvfbckp\n"
     ]
    },
    {
     "ename": "ValueError",
     "evalue": "invalid literal for int() with base 10: 'ckp'",
     "output_type": "error",
     "traceback": [
      "\u001b[0;31m---------------------------------------------------------------------------\u001b[0m",
      "\u001b[0;31mValueError\u001b[0m                                Traceback (most recent call last)",
      "\u001b[0;32m<ipython-input-23-debf97f6f458>\u001b[0m in \u001b[0;36m<module>\u001b[0;34m()\u001b[0m\n\u001b[0;32m----> 1\u001b[0;31m \u001b[0mint\u001b[0m\u001b[0;34m(\u001b[0m\u001b[0minput\u001b[0m\u001b[0;34m(\u001b[0m\u001b[0;34m'vrvfb'\u001b[0m\u001b[0;34m)\u001b[0m\u001b[0;34m)\u001b[0m\u001b[0;34m\u001b[0m\u001b[0m\n\u001b[0m",
      "\u001b[0;31mValueError\u001b[0m: invalid literal for int() with base 10: 'ckp'"
     ]
    }
   ],
   "source": [
    "int(input('vrvfb'))"
   ]
  },
  {
   "cell_type": "code",
   "execution_count": 29,
   "metadata": {
    "collapsed": true
   },
   "outputs": [],
   "source": [
    "a = [3, 3, 3]"
   ]
  },
  {
   "cell_type": "code",
   "execution_count": 30,
   "metadata": {},
   "outputs": [
    {
     "data": {
      "text/plain": [
       "1"
      ]
     },
     "execution_count": 30,
     "metadata": {},
     "output_type": "execute_result"
    }
   ],
   "source": [
    "len(set(a))"
   ]
  },
  {
   "cell_type": "code",
   "execution_count": 43,
   "metadata": {
    "collapsed": true
   },
   "outputs": [],
   "source": [
    "a = 4\n",
    "b = 3"
   ]
  },
  {
   "cell_type": "code",
   "execution_count": 44,
   "metadata": {},
   "outputs": [
    {
     "name": "stdout",
     "output_type": "stream",
     "text": [
      "iiiiiiiiii\n"
     ]
    }
   ],
   "source": [
    "if (a==1) or (b==2):\n",
    "    print('aaaaaaaa')\n",
    "else:\n",
    "    print('iiiiiiiiii')"
   ]
  },
  {
   "cell_type": "code",
   "execution_count": null,
   "metadata": {
    "collapsed": true
   },
   "outputs": [],
   "source": []
  }
 ],
 "metadata": {
  "kernelspec": {
   "display_name": "Python 3",
   "language": "python",
   "name": "python3"
  },
  "language_info": {
   "codemirror_mode": {
    "name": "ipython",
    "version": 3
   },
   "file_extension": ".py",
   "mimetype": "text/x-python",
   "name": "python",
   "nbconvert_exporter": "python",
   "pygments_lexer": "ipython3",
   "version": "3.6.2"
  }
 },
 "nbformat": 4,
 "nbformat_minor": 2
}
