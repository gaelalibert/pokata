{
 "cells": [
  {
   "cell_type": "code",
   "execution_count": 1,
   "metadata": {
    "collapsed": true
   },
   "outputs": [],
   "source": [
    "from game.poker_table import Table\n",
    "from game.poker_player import Players\n",
    "from game.poker_cards import Cards\n",
    "from game.poker_hand_values import HandValue\n",
    "from game.utils import *\n",
    "from game.poker_round import Round"
   ]
  },
  {
   "cell_type": "code",
   "execution_count": 2,
   "metadata": {},
   "outputs": [
    {
     "name": "stdout",
     "output_type": "stream",
     "text": [
      "Taken spots :  set()\n",
      "Free spots :  {0, 1, 2, 3, 4, 5, 6, 7, 8, 9}\n"
     ]
    }
   ],
   "source": [
    "# We create the table\n",
    "cg_table = Table(limit = 2)"
   ]
  },
  {
   "cell_type": "code",
   "execution_count": 3,
   "metadata": {},
   "outputs": [
    {
     "name": "stdout",
     "output_type": "stream",
     "text": [
      "Taken spots :  set()\n",
      "Free spots :  {0, 1, 2, 3, 4, 5, 6, 7, 8, 9}\n",
      "Players :  []\n",
      "Spots names :  {}\n",
      "Dealer is the seat :  -1\n"
     ]
    }
   ],
   "source": [
    "cg_table.show()"
   ]
  },
  {
   "cell_type": "code",
   "execution_count": 4,
   "metadata": {
    "collapsed": true
   },
   "outputs": [],
   "source": [
    "#We create our players and add them to the table\n",
    "robert = Players('Robert')\n",
    "youri = Players('Youri')\n",
    "zizou = Players('Zinedine')\n",
    "dede = Players('Didier')\n",
    "lilian = Players('Lilian')\n",
    "titi = Players('Thierry')"
   ]
  },
  {
   "cell_type": "code",
   "execution_count": 5,
   "metadata": {},
   "outputs": [
    {
     "name": "stdout",
     "output_type": "stream",
     "text": [
      "You can sit here. There are now 1 players on this table.\n",
      "Taken spots :  {3}\n",
      "Free spots :  {0, 1, 2, 4, 5, 6, 7, 8, 9}\n",
      "You can sit here. There are now 2 players on this table.\n",
      "Taken spots :  {3, 7}\n",
      "Free spots :  {0, 1, 2, 4, 5, 6, 8, 9}\n",
      "You can sit here. There are now 3 players on this table.\n",
      "Taken spots :  {1, 3, 7}\n",
      "Free spots :  {0, 2, 4, 5, 6, 8, 9}\n",
      "You can sit here. There are now 4 players on this table.\n",
      "Taken spots :  {1, 3, 9, 7}\n",
      "Free spots :  {0, 2, 4, 5, 6, 8}\n",
      "You can sit here. There are now 5 players on this table.\n",
      "Taken spots :  {1, 3, 5, 7, 9}\n",
      "Free spots :  {0, 2, 4, 6, 8}\n"
     ]
    }
   ],
   "source": [
    "cg_table.sit(robert, 50)\n",
    "cg_table.sit(youri, 99)\n",
    "cg_table.sit(zizou, 100)\n",
    "cg_table.sit(dede, 99)\n",
    "cg_table.sit(lilian, 100)"
   ]
  },
  {
   "cell_type": "code",
   "execution_count": 6,
   "metadata": {},
   "outputs": [
    {
     "name": "stdout",
     "output_type": "stream",
     "text": [
      "The seat 7 is the Dealer\n",
      "The player Youri is the Dealer\n"
     ]
    }
   ],
   "source": [
    "# The dealer is chosen randomly (for this iteration)\n",
    "cg_table.dealer = rd.choice(list(cg_table.spots_taken))\n",
    "print(\"The seat %i is the Dealer\" %cg_table.dealer)\n",
    "dealer = cg_table.spot_name[cg_table.dealer]\n",
    "print(\"The player %s is the Dealer\" %dealer)"
   ]
  },
  {
   "cell_type": "code",
   "execution_count": 7,
   "metadata": {},
   "outputs": [
    {
     "name": "stdout",
     "output_type": "stream",
     "text": [
      "Taken spots :  {1, 3, 5, 7, 9}\n",
      "Free spots :  {0, 2, 4, 6, 8}\n",
      "Players :  ['Robert', 'Youri', 'Zinedine', 'Didier', 'Lilian']\n",
      "Spots names :  {3: 'Robert', 7: 'Youri', 1: 'Zinedine', 9: 'Didier', 5: 'Lilian'}\n",
      "Dealer is the seat :  7\n"
     ]
    }
   ],
   "source": [
    "cg_table.show()"
   ]
  },
  {
   "cell_type": "code",
   "execution_count": 8,
   "metadata": {
    "collapsed": true
   },
   "outputs": [],
   "source": [
    "play_round = Round(cg_table)"
   ]
  },
  {
   "cell_type": "code",
   "execution_count": 9,
   "metadata": {
    "collapsed": true
   },
   "outputs": [],
   "source": [
    "play_round.get_blinds()"
   ]
  },
  {
   "cell_type": "code",
   "execution_count": 10,
   "metadata": {},
   "outputs": [
    {
     "name": "stdout",
     "output_type": "stream",
     "text": [
      "_____________________________________________________________________\n",
      "Step : pre-flop\n",
      "Players Left['Lilian', 'Didier', 'Robert', 'Youri', 'Zinedine']\n",
      "Players chips : {'Lilian': 100, 'Didier': 98.0, 'Robert': 48, 'Youri': 99, 'Zinedine': 100}\n",
      "Board cards :\n",
      "Pot : 3.0\n",
      "Players bets : {'Lilian': 0, 'Didier': 1.0, 'Robert': 2, 'Youri': 0, 'Zinedine': 0}\n",
      "_____________________________________________________________________\n"
     ]
    }
   ],
   "source": [
    "play_round.show_info()"
   ]
  },
  {
   "cell_type": "code",
   "execution_count": 11,
   "metadata": {
    "collapsed": true
   },
   "outputs": [],
   "source": [
    "play_round.dealing_cards()"
   ]
  },
  {
   "cell_type": "code",
   "execution_count": 12,
   "metadata": {},
   "outputs": [
    {
     "data": {
      "text/plain": [
       "[{'card1': '4 of Spade', 'card2': '3 of Diamond', 'player': 'Lilian'},\n",
       " {'card1': '10 of Diamond', 'card2': '7 of Clubs', 'player': 'Didier'},\n",
       " {'card1': '5 of Diamond', 'card2': '6 of Spade', 'player': 'Robert'},\n",
       " {'card1': 'Ace of Diamond', 'card2': 'King of Diamond', 'player': 'Youri'},\n",
       " {'card1': 'Queen of Clubs', 'card2': 'Jack of Spade', 'player': 'Zinedine'}]"
      ]
     },
     "execution_count": 12,
     "metadata": {},
     "output_type": "execute_result"
    }
   ],
   "source": [
    "show_cards_dealed(play_round.players_left, play_round.cards_dealed)"
   ]
  },
  {
   "cell_type": "code",
   "execution_count": 13,
   "metadata": {},
   "outputs": [
    {
     "name": "stdout",
     "output_type": "stream",
     "text": [
      "['Youri', 'Zinedine', 'Lilian', 'Didier', 'Robert']\n",
      "_____________________________________________________________________\n",
      "Step : pre-flop\n",
      "Players Left['Lilian', 'Didier', 'Robert', 'Youri', 'Zinedine']\n",
      "Players chips : {'Lilian': 100, 'Didier': 98.0, 'Robert': 48, 'Youri': 99, 'Zinedine': 100}\n",
      "Board cards :\n",
      "Pot : 3.0\n",
      "Players bets : {'Lilian': 0, 'Didier': 1.0, 'Robert': 2, 'Youri': 0, 'Zinedine': 0}\n",
      "_____________________________________________________________________\n",
      "++++++++ Youri +++++++++++\n",
      "What's your action ? FOLD or CHECK/CALL OR RAISE ?RAISE 6\n",
      "Bad entry. Please choose between FOLD or CHECK/CALL or RAISE with capital letters.\n",
      "++++++++ Youri +++++++++++\n",
      "What's your action ? FOLD or CHECK/CALL OR RAISE ?RAISE\n",
      "What's your raise ammount? (minimum double)6\n",
      "_____________________________________________________________________\n",
      "Step : pre-flop\n",
      "Players Left['Lilian', 'Didier', 'Robert', 'Youri', 'Zinedine']\n",
      "Players chips : {'Lilian': 100, 'Didier': 98.0, 'Robert': 48, 'Youri': 93, 'Zinedine': 100}\n",
      "Board cards :\n",
      "Pot : 9.0\n",
      "Players bets : {'Lilian': 0, 'Didier': 1.0, 'Robert': 2, 'Youri': 6, 'Zinedine': 0}\n",
      "_____________________________________________________________________\n",
      "++++++++ Zinedine +++++++++++\n",
      "What's your action ? FOLD or CHECK/CALL OR RAISE ?CALL\n",
      "_____________________________________________________________________\n",
      "Step : pre-flop\n",
      "Players Left['Lilian', 'Didier', 'Robert', 'Youri', 'Zinedine']\n",
      "Players chips : {'Lilian': 100, 'Didier': 98.0, 'Robert': 48, 'Youri': 93, 'Zinedine': 94}\n",
      "Board cards :\n",
      "Pot : 15.0\n",
      "Players bets : {'Lilian': 0, 'Didier': 1.0, 'Robert': 2, 'Youri': 6, 'Zinedine': 6}\n",
      "_____________________________________________________________________\n",
      "++++++++ Lilian +++++++++++\n",
      "What's your action ? FOLD or CHECK/CALL OR RAISE ?FOLD\n",
      "_____________________________________________________________________\n",
      "Step : pre-flop\n",
      "Players Left['Didier', 'Robert', 'Youri', 'Zinedine']\n",
      "Players chips : {'Didier': 98.0, 'Robert': 48, 'Youri': 93, 'Zinedine': 94}\n",
      "Board cards :\n",
      "Pot : 15.0\n",
      "Players bets : {'Lilian': 0, 'Didier': 1.0, 'Robert': 2, 'Youri': 6, 'Zinedine': 6}\n",
      "_____________________________________________________________________\n",
      "++++++++ Didier +++++++++++\n",
      "What's your action ? FOLD or CHECK/CALL OR RAISE ?FOLD\n",
      "_____________________________________________________________________\n",
      "Step : pre-flop\n",
      "Players Left['Robert', 'Youri', 'Zinedine']\n",
      "Players chips : {'Robert': 48, 'Youri': 93, 'Zinedine': 94}\n",
      "Board cards :\n",
      "Pot : 15.0\n",
      "Players bets : {'Lilian': 0, 'Didier': 1.0, 'Robert': 2, 'Youri': 6, 'Zinedine': 6}\n",
      "_____________________________________________________________________\n",
      "++++++++ Robert +++++++++++\n",
      "What's your action ? FOLD or CHECK/CALL OR RAISE ?FOLD\n",
      "_____________________________________________________________________\n",
      "Step : pre-flop\n",
      "Players Left['Youri', 'Zinedine']\n",
      "Players chips : {'Youri': 93, 'Zinedine': 94}\n",
      "Board cards :\n",
      "Pot : 15.0\n",
      "Players bets : {'Youri': 0, 'Zinedine': 0}\n",
      "_____________________________________________________________________\n",
      "The players left are : Youri and Zinedine\n"
     ]
    }
   ],
   "source": [
    "play_round.preflop_bets()"
   ]
  },
  {
   "cell_type": "code",
   "execution_count": 14,
   "metadata": {
    "scrolled": true
   },
   "outputs": [
    {
     "name": "stdout",
     "output_type": "stream",
     "text": [
      "The flop cards are the following : \n",
      "3 of Heart\n",
      "5 of Heart\n",
      "3 of Spade\n"
     ]
    }
   ],
   "source": [
    "play_round.play_flop()"
   ]
  },
  {
   "cell_type": "code",
   "execution_count": 15,
   "metadata": {},
   "outputs": [
    {
     "name": "stdout",
     "output_type": "stream",
     "text": [
      "['Didier', 'Robert', 'Youri', 'Zinedine', 'Lilian']\n",
      "_____________________________________________________________________\n",
      "Step : flop\n",
      "Players Left['Youri', 'Zinedine']\n",
      "Players chips : {'Youri': 93, 'Zinedine': 94}\n",
      "Board cards :\n",
      "3 of Heart\n",
      "5 of Heart\n",
      "3 of Spade\n",
      "Pot : 15.0\n",
      "Players bets : {'Youri': 0, 'Zinedine': 0}\n",
      "_____________________________________________________________________\n",
      "++++++++ Youri +++++++++++\n",
      "What's your action ? FOLD or CHECK/CALL OR RAISE ?CHECK\n",
      "_____________________________________________________________________\n",
      "Step : flop\n",
      "Players Left['Youri', 'Zinedine']\n",
      "Players chips : {'Youri': 93, 'Zinedine': 94}\n",
      "Board cards :\n",
      "3 of Heart\n",
      "5 of Heart\n",
      "3 of Spade\n",
      "Pot : 15.0\n",
      "Players bets : {'Youri': 0, 'Zinedine': 0}\n",
      "_____________________________________________________________________\n",
      "++++++++ Zinedine +++++++++++\n",
      "What's your action ? FOLD or CHECK/CALL OR RAISE ?CHECK\n",
      "_____________________________________________________________________\n",
      "Step : flop\n",
      "Players Left['Youri', 'Zinedine']\n",
      "Players chips : {'Youri': 93, 'Zinedine': 94}\n",
      "Board cards :\n",
      "3 of Heart\n",
      "5 of Heart\n",
      "3 of Spade\n",
      "Pot : 15.0\n",
      "Players bets : {'Youri': 0, 'Zinedine': 0}\n",
      "_____________________________________________________________________\n",
      "The players left are : Youri and Zinedine\n"
     ]
    }
   ],
   "source": [
    "play_round.flop_bets()"
   ]
  },
  {
   "cell_type": "code",
   "execution_count": 16,
   "metadata": {},
   "outputs": [
    {
     "name": "stdout",
     "output_type": "stream",
     "text": [
      "The turn card is the following : \n",
      "6 of Diamond\n"
     ]
    }
   ],
   "source": [
    "play_round.play_turn()"
   ]
  },
  {
   "cell_type": "code",
   "execution_count": 17,
   "metadata": {},
   "outputs": [
    {
     "name": "stdout",
     "output_type": "stream",
     "text": [
      "['Didier', 'Robert', 'Youri', 'Zinedine', 'Lilian']\n",
      "_____________________________________________________________________\n",
      "Step : turn\n",
      "Players Left['Youri', 'Zinedine']\n",
      "Players chips : {'Youri': 93, 'Zinedine': 94}\n",
      "Board cards :\n",
      "3 of Heart\n",
      "5 of Heart\n",
      "3 of Spade\n",
      "6 of Diamond\n",
      "Pot : 15.0\n",
      "Players bets : {'Youri': 0, 'Zinedine': 0}\n",
      "_____________________________________________________________________\n",
      "++++++++ Youri +++++++++++\n",
      "What's your action ? FOLD or CHECK/CALL OR RAISE ?RAISE\n",
      "What's your raise ammount? (minimum double)5\n",
      "_____________________________________________________________________\n",
      "Step : turn\n",
      "Players Left['Youri', 'Zinedine']\n",
      "Players chips : {'Youri': 88, 'Zinedine': 94}\n",
      "Board cards :\n",
      "3 of Heart\n",
      "5 of Heart\n",
      "3 of Spade\n",
      "6 of Diamond\n",
      "Pot : 20.0\n",
      "Players bets : {'Youri': 5, 'Zinedine': 0}\n",
      "_____________________________________________________________________\n",
      "++++++++ Zinedine +++++++++++\n",
      "What's your action ? FOLD or CHECK/CALL OR RAISE ?FOLD\n",
      "_____________________________________________________________________\n",
      "Step : turn\n",
      "Players Left['Youri']\n",
      "Players chips : {'Youri': 88}\n",
      "Board cards :\n",
      "3 of Heart\n",
      "5 of Heart\n",
      "3 of Spade\n",
      "6 of Diamond\n",
      "Pot : 20.0\n",
      "Players bets : {'Youri': 0}\n",
      "_____________________________________________________________________\n",
      "We've got a winner !\n",
      "Youri has won this hand ant take the pot : 20.0\n"
     ]
    }
   ],
   "source": [
    "play_round.turn_bets()"
   ]
  },
  {
   "cell_type": "code",
   "execution_count": 18,
   "metadata": {},
   "outputs": [
    {
     "name": "stdout",
     "output_type": "stream",
     "text": [
      "The river card is the following : \n",
      "Ace of Heart\n"
     ]
    }
   ],
   "source": [
    "play_round.play_river()"
   ]
  },
  {
   "cell_type": "code",
   "execution_count": 19,
   "metadata": {},
   "outputs": [
    {
     "name": "stdout",
     "output_type": "stream",
     "text": [
      "['Robert', 'Zinedine', 'Didier', 'Youri', 'Lilian']\n",
      "_____________________________________________________________________\n",
      "Step : river\n",
      "Players Left['Robert', 'Zinedine']\n",
      "Players chips : {'Robert': 48.0, 'Zinedine': 98}\n",
      "Board cards :\n",
      "8 of Diamond\n",
      "Jack of Heart\n",
      "9 of Diamond\n",
      "King of Clubs\n",
      "10 of Spade\n",
      "Pot : 4.0\n",
      "Players bets : {'Robert': 0, 'Zinedine': 0}\n",
      "_____________________________________________________________________\n",
      "++++++++ Robert +++++++++++\n",
      "What's your action ? FOLD or CHECK/CALL OR RAISE ?CHECK\n",
      "_____________________________________________________________________\n",
      "Step : river\n",
      "Players Left['Robert', 'Zinedine']\n",
      "Players chips : {'Robert': 48.0, 'Zinedine': 98}\n",
      "Board cards :\n",
      "8 of Diamond\n",
      "Jack of Heart\n",
      "9 of Diamond\n",
      "King of Clubs\n",
      "10 of Spade\n",
      "Pot : 4.0\n",
      "Players bets : {'Robert': 0, 'Zinedine': 0}\n",
      "_____________________________________________________________________\n",
      "++++++++ Zinedine +++++++++++\n",
      "What's your action ? FOLD or CHECK/CALL OR RAISE ?CHECK\n",
      "_____________________________________________________________________\n",
      "Step : river\n",
      "Players Left['Robert', 'Zinedine']\n",
      "Players chips : {'Robert': 48.0, 'Zinedine': 98}\n",
      "Board cards :\n",
      "8 of Diamond\n",
      "Jack of Heart\n",
      "9 of Diamond\n",
      "King of Clubs\n",
      "10 of Spade\n",
      "Pot : 4.0\n",
      "Players bets : {'Robert': 0, 'Zinedine': 0}\n",
      "_____________________________________________________________________\n",
      "Robert : (4, [13])\n",
      "You have a straight with high 13\n",
      "Zinedine : (1, [13, 14, 11, 10])\n",
      "You have a pair of 13\n",
      "The player(s) ['Robert'] win(s) the hand\n",
      "You have a straight with high 13\n",
      "We've got 2 winner(s) : Robert\n",
      "The winners share the pot : 4.0\n"
     ]
    }
   ],
   "source": [
    "play_round.river_bets()"
   ]
  },
  {
   "cell_type": "code",
   "execution_count": 31,
   "metadata": {
    "collapsed": true
   },
   "outputs": [],
   "source": [
    "class toto():\n",
    "    \n",
    "    def __init__(self):\n",
    "        self.status = True\n",
    "\n",
    "    def _sum(self, a, b):\n",
    "        print(a + b)\n",
    "        self.status = False\n",
    "        \n",
    "    def _mult(self, a, b):\n",
    "        print(a * b)\n",
    "        self.status = False\n",
    "    \n",
    "    def test(self, a, b):\n",
    "        while self.status == True:\n",
    "            self._sum(a, b)\n",
    "            self._mult(a, b)\n",
    "            "
   ]
  },
  {
   "cell_type": "code",
   "execution_count": 32,
   "metadata": {
    "collapsed": true
   },
   "outputs": [],
   "source": [
    "test = toto()"
   ]
  },
  {
   "cell_type": "code",
   "execution_count": 33,
   "metadata": {},
   "outputs": [
    {
     "name": "stdout",
     "output_type": "stream",
     "text": [
      "6\n",
      "8\n"
     ]
    }
   ],
   "source": [
    "test.test(2, 4)"
   ]
  },
  {
   "cell_type": "code",
   "execution_count": 9,
   "metadata": {},
   "outputs": [
    {
     "name": "stdout",
     "output_type": "stream",
     "text": [
      "{'player': 'Youri', 'card1': '4 of Spade', 'card2': 'Ace of Clubs'}\n",
      "{'player': 'Didier', 'card1': '8 of Heart', 'card2': '5 of Diamond'}\n",
      "{'player': 'Zinedine', 'card1': 'Queen of Clubs', 'card2': '3 of Diamond'}\n",
      "{'player': 'Robert', 'card1': '5 of Heart', 'card2': 'Jack of Diamond'}\n",
      "{'player': 'Lilian', 'card1': '8 of Spade', 'card2': '2 of Spade'}\n",
      "['Robert', 'Lilian', 'Youri', 'Didier', 'Zinedine']\n",
      "_____________________________________________________________________\n",
      "Step : pre-flop\n",
      "Players Left['Youri', 'Didier', 'Zinedine', 'Robert', 'Lilian']\n",
      "Players chips : {'Youri': 99, 'Didier': 98.0, 'Zinedine': 98, 'Robert': 50, 'Lilian': 100}\n",
      "Board cards :\n",
      "Pot : 3.0\n",
      "Players bets : {'Youri': 0, 'Didier': 1.0, 'Zinedine': 2, 'Robert': 0, 'Lilian': 0}\n",
      "_____________________________________________________________________\n",
      "++++++++ Robert +++++++++++\n",
      "What's your action ? FOLD or CHECK/CALL OR RAISE ?RAISE\n",
      "What's your raise ammount? (minimum double)12\n",
      "_____________________________________________________________________\n",
      "Step : pre-flop\n",
      "Players Left['Youri', 'Didier', 'Zinedine', 'Robert', 'Lilian']\n",
      "Players chips : {'Youri': 99, 'Didier': 98.0, 'Zinedine': 98, 'Robert': 38, 'Lilian': 100}\n",
      "Board cards :\n",
      "Pot : 15.0\n",
      "Players bets : {'Youri': 0, 'Didier': 1.0, 'Zinedine': 2, 'Robert': 12, 'Lilian': 0}\n",
      "_____________________________________________________________________\n",
      "++++++++ Lilian +++++++++++\n",
      "What's your action ? FOLD or CHECK/CALL OR RAISE ?CALL\n",
      "_____________________________________________________________________\n",
      "Step : pre-flop\n",
      "Players Left['Youri', 'Didier', 'Zinedine', 'Robert', 'Lilian']\n",
      "Players chips : {'Youri': 99, 'Didier': 98.0, 'Zinedine': 98, 'Robert': 38, 'Lilian': 88}\n",
      "Board cards :\n",
      "Pot : 27.0\n",
      "Players bets : {'Youri': 0, 'Didier': 1.0, 'Zinedine': 2, 'Robert': 12, 'Lilian': 12}\n",
      "_____________________________________________________________________\n",
      "++++++++ Youri +++++++++++\n",
      "What's your action ? FOLD or CHECK/CALL OR RAISE ?FOLD\n",
      "_____________________________________________________________________\n",
      "Step : pre-flop\n",
      "Players Left['Didier', 'Zinedine', 'Robert', 'Lilian']\n",
      "Players chips : {'Didier': 98.0, 'Zinedine': 98, 'Robert': 38, 'Lilian': 88}\n",
      "Board cards :\n",
      "Pot : 27.0\n",
      "Players bets : {'Youri': 0, 'Didier': 1.0, 'Zinedine': 2, 'Robert': 12, 'Lilian': 12}\n",
      "_____________________________________________________________________\n",
      "++++++++ Didier +++++++++++\n",
      "What's your action ? FOLD or CHECK/CALL OR RAISE ?FOLD\n",
      "_____________________________________________________________________\n",
      "Step : pre-flop\n",
      "Players Left['Zinedine', 'Robert', 'Lilian']\n",
      "Players chips : {'Zinedine': 98, 'Robert': 38, 'Lilian': 88}\n",
      "Board cards :\n",
      "Pot : 27.0\n",
      "Players bets : {'Youri': 0, 'Didier': 1.0, 'Zinedine': 2, 'Robert': 12, 'Lilian': 12}\n",
      "_____________________________________________________________________\n",
      "++++++++ Zinedine +++++++++++\n",
      "What's your action ? FOLD or CHECK/CALL OR RAISE ?FOLD\n",
      "_____________________________________________________________________\n",
      "Step : pre-flop\n",
      "Players Left['Robert', 'Lilian']\n",
      "Players chips : {'Robert': 38, 'Lilian': 88}\n",
      "Board cards :\n",
      "Pot : 27.0\n",
      "Players bets : {'Robert': 0, 'Lilian': 0}\n",
      "_____________________________________________________________________\n",
      "The players left are : Robert and Lilian\n",
      "The flop cards are the following : \n",
      "8 of Clubs\n",
      "Ace of Spade\n",
      "6 of Clubs\n",
      "['Didier', 'Zinedine', 'Robert', 'Lilian', 'Youri']\n",
      "_____________________________________________________________________\n",
      "Step : flop\n",
      "Players Left['Robert', 'Lilian']\n",
      "Players chips : {'Robert': 38, 'Lilian': 88}\n",
      "Board cards :\n",
      "8 of Clubs\n",
      "Ace of Spade\n",
      "6 of Clubs\n",
      "Pot : 27.0\n",
      "Players bets : {'Robert': 0, 'Lilian': 0}\n",
      "_____________________________________________________________________\n",
      "++++++++ Robert +++++++++++\n",
      "What's your action ? FOLD or CHECK/CALL OR RAISE ?RAISE\n",
      "What's your raise ammount? (minimum double)3\n",
      "_____________________________________________________________________\n",
      "Step : flop\n",
      "Players Left['Robert', 'Lilian']\n",
      "Players chips : {'Robert': 35, 'Lilian': 88}\n",
      "Board cards :\n",
      "8 of Clubs\n",
      "Ace of Spade\n",
      "6 of Clubs\n",
      "Pot : 30.0\n",
      "Players bets : {'Robert': 3, 'Lilian': 0}\n",
      "_____________________________________________________________________\n",
      "++++++++ Lilian +++++++++++\n",
      "What's your action ? FOLD or CHECK/CALL OR RAISE ?FOLD\n",
      "_____________________________________________________________________\n",
      "Step : flop\n",
      "Players Left['Robert']\n",
      "Players chips : {'Robert': 35}\n",
      "Board cards :\n",
      "8 of Clubs\n",
      "Ace of Spade\n",
      "6 of Clubs\n",
      "Pot : 30.0\n",
      "Players bets : {'Robert': 0}\n",
      "_____________________________________________________________________\n",
      "We've got a winner !\n",
      "Robert has won this hand and take the pot : 30.0\n"
     ]
    }
   ],
   "source": [
    "play_round.play_round()"
   ]
  },
  {
   "cell_type": "code",
   "execution_count": 10,
   "metadata": {},
   "outputs": [
    {
     "data": {
      "text/plain": [
       "{'Didier': 98.0, 'Lilian': 88, 'Robert': 65.0, 'Youri': 99, 'Zinedine': 98}"
      ]
     },
     "execution_count": 10,
     "metadata": {},
     "output_type": "execute_result"
    }
   ],
   "source": [
    "{x.pseudo: x.chips for x in  cg_table.players}"
   ]
  },
  {
   "cell_type": "code",
   "execution_count": null,
   "metadata": {
    "collapsed": true
   },
   "outputs": [],
   "source": []
  }
 ],
 "metadata": {
  "kernelspec": {
   "display_name": "Python 3",
   "language": "python",
   "name": "python3"
  },
  "language_info": {
   "codemirror_mode": {
    "name": "ipython",
    "version": 3
   },
   "file_extension": ".py",
   "mimetype": "text/x-python",
   "name": "python",
   "nbconvert_exporter": "python",
   "pygments_lexer": "ipython3",
   "version": "3.6.2"
  }
 },
 "nbformat": 4,
 "nbformat_minor": 2
}
